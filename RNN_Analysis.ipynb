{
 "cells": [
  {
   "cell_type": "code",
   "execution_count": 5,
   "metadata": {},
   "outputs": [],
   "source": [
    "import argparse\n",
    "import os.path as osp\n",
    "import os\n",
    "import numpy as np\n",
    "from RNN_Analysis import import_files\n",
    "from RNN_Analysis import transform_data_format\n",
    "from RNN_Analysis import RNN_clasifier\n",
    "from RNN_Analysis import cross_validate_evaluation"
   ]
  },
  {
   "cell_type": "code",
   "execution_count": 7,
   "metadata": {},
   "outputs": [],
   "source": [
    "input_path = \"./data/seb_class_begin_less.csv\"\n",
    "data = import_files(input_path)\n",
    "x,y = transform_data_format(data)"
   ]
  },
  {
   "cell_type": "code",
   "execution_count": 9,
   "metadata": {},
   "outputs": [
    {
     "name": "stdout",
     "output_type": "stream",
     "text": [
      "Running fold: 1 / 10\n",
      "Epoch 1/2\n",
      "29159/29159 [==============================] - 11s 392us/step - loss: 0.4915 - acc: 0.8150\n",
      "Epoch 2/2\n",
      "29159/29159 [==============================] - 10s 327us/step - loss: 0.4790 - acc: 0.8151\n",
      "3241/3241 [==============================] - 0s 81us/step\n",
      "Running fold: 2 / 10\n",
      "Epoch 1/2\n",
      "29159/29159 [==============================] - 13s 449us/step - loss: 0.4899 - acc: 0.8151\n",
      "Epoch 2/2\n",
      "29159/29159 [==============================] - 13s 437us/step - loss: 0.4791 - acc: 0.8151\n",
      "3241/3241 [==============================] - 0s 82us/step\n",
      "Running fold: 3 / 10\n",
      "Epoch 1/2\n",
      "29160/29160 [==============================] - 12s 422us/step - loss: 0.4899 - acc: 0.8150\n",
      "Epoch 2/2\n",
      "29160/29160 [==============================] - 11s 377us/step - loss: 0.4789 - acc: 0.8151\n",
      "3240/3240 [==============================] - 0s 96us/step\n",
      "Running fold: 4 / 10\n",
      "Epoch 1/2\n",
      "29160/29160 [==============================] - 14s 469us/step - loss: 0.4896 - acc: 0.8150\n",
      "Epoch 2/2\n",
      "29160/29160 [==============================] - 12s 405us/step - loss: 0.4790 - acc: 0.8151\n",
      "3240/3240 [==============================] - 0s 103us/step\n",
      "Running fold: 5 / 10\n",
      "Epoch 1/2\n",
      "29160/29160 [==============================] - 13s 430us/step - loss: 0.4892 - acc: 0.8151\n",
      "Epoch 2/2\n",
      "29160/29160 [==============================] - 11s 365us/step - loss: 0.4790 - acc: 0.8151\n",
      "3240/3240 [==============================] - 0s 115us/step\n",
      "Running fold: 6 / 10\n",
      "Epoch 1/2\n",
      "29160/29160 [==============================] - 13s 462us/step - loss: 0.4907 - acc: 0.8149\n",
      "Epoch 2/2\n",
      "29160/29160 [==============================] - 11s 390us/step - loss: 0.4790 - acc: 0.8151\n",
      "3240/3240 [==============================] - 0s 120us/step\n",
      "Running fold: 7 / 10\n",
      "Epoch 1/2\n",
      "29160/29160 [==============================] - 13s 451us/step - loss: 0.4893 - acc: 0.8148\n",
      "Epoch 2/2\n",
      "29160/29160 [==============================] - 12s 395us/step - loss: 0.4790 - acc: 0.8151\n",
      "3240/3240 [==============================] - 0s 138us/step\n",
      "Running fold: 8 / 10\n",
      "Epoch 1/2\n",
      "29160/29160 [==============================] - 14s 470us/step - loss: 0.4920 - acc: 0.8150\n",
      "Epoch 2/2\n",
      "29160/29160 [==============================] - 11s 394us/step - loss: 0.4791 - acc: 0.8151\n",
      "3240/3240 [==============================] - 1s 157us/step\n",
      "Running fold: 9 / 10\n",
      "Epoch 1/2\n",
      "29161/29161 [==============================] - 13s 447us/step - loss: 0.4899 - acc: 0.8151\n",
      "Epoch 2/2\n",
      "29161/29161 [==============================] - 12s 409us/step - loss: 0.4789 - acc: 0.8151\n",
      "3239/3239 [==============================] - 1s 162us/step\n",
      "Running fold: 10 / 10\n",
      "Epoch 1/2\n",
      "29161/29161 [==============================] - 14s 470us/step - loss: 0.4901 - acc: 0.8151\n",
      "Epoch 2/2\n",
      "29161/29161 [==============================] - 12s 410us/step - loss: 0.4790 - acc: 0.8151\n",
      "3239/3239 [==============================] - 1s 178us/step\n"
     ]
    }
   ],
   "source": [
    "num_fold = 10\n",
    "units = 16\n",
    "dropout = 0.2\n",
    "recurrent_dropout = 0.2\n",
    "batch_size = 10\n",
    "num_epochs = 2\n",
    "accuracy, precision, recall, f1 = cross_validate_evaluation(x, y, num_fold, units, dropout,\\\n",
    "                                                                recurrent_dropout, batch_size, \\\n",
    "                                                                num_epochs)"
   ]
  },
  {
   "cell_type": "code",
   "execution_count": 10,
   "metadata": {},
   "outputs": [
    {
     "name": "stdout",
     "output_type": "stream",
     "text": [
      "0.815061740397\n"
     ]
    }
   ],
   "source": [
    "print accuracy"
   ]
  },
  {
   "cell_type": "code",
   "execution_count": null,
   "metadata": {
    "collapsed": true
   },
   "outputs": [],
   "source": []
  }
 ],
 "metadata": {
  "kernelspec": {
   "display_name": "Python 2",
   "language": "python",
   "name": "python2"
  },
  "language_info": {
   "codemirror_mode": {
    "name": "ipython",
    "version": 2
   },
   "file_extension": ".py",
   "mimetype": "text/x-python",
   "name": "python",
   "nbconvert_exporter": "python",
   "pygments_lexer": "ipython2",
   "version": "2.7.11"
  }
 },
 "nbformat": 4,
 "nbformat_minor": 2
}
