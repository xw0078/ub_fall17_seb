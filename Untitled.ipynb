{
 "cells": [
  {
   "cell_type": "code",
   "execution_count": 1,
   "metadata": {
    "collapsed": true
   },
   "outputs": [],
   "source": [
    "from sklearn.datasets import load_breast_cancer\n",
    "from numpy import genfromtxt\n",
    "data = genfromtxt('seb_dataset.csv', delimiter=',')\n"
   ]
  },
  {
   "cell_type": "code",
   "execution_count": 19,
   "metadata": {},
   "outputs": [],
   "source": [
    "features = data[:,0:3]\n",
    "labels = data[:,3:4]\n",
    "labels = labels.astype(int).flatten()"
   ]
  },
  {
   "cell_type": "code",
   "execution_count": 42,
   "metadata": {},
   "outputs": [
    {
     "data": {
      "text/plain": [
       "array([[ 0.00021997,  0.00061175,  0.00064928],\n",
       "       [ 0.00017603,  0.00062247,  0.00073778],\n",
       "       [ 0.00020108,  0.00056486,  0.00072344],\n",
       "       [ 0.00033115,  0.00072222,  0.00064597],\n",
       "       [ 0.000252  ,  0.00062861,  0.00065027],\n",
       "       [ 0.00024529,  0.00039425,  0.00066802],\n",
       "       [ 0.00023746,  0.00054144,  0.00080938],\n",
       "       [ 0.00044552,  0.00061406,  0.00083254],\n",
       "       [ 0.00048963,  0.0006701 ,  0.00087513],\n",
       "       [ 0.00030574,  0.00052733,  0.00085765],\n",
       "       [ 0.00017488,  0.00050319,  0.00078004],\n",
       "       [ 0.00032081,  0.00057845,  0.00091912],\n",
       "       [ 0.00040236,  0.0007747 ,  0.00099459],\n",
       "       [ 0.00033251,  0.00064541,  0.00108337],\n",
       "       [ 0.00037879,  0.00067625,  0.00106396],\n",
       "       [ 0.00032517,  0.00058658,  0.00092374],\n",
       "       [ 0.00036063,  0.00063207,  0.0009043 ],\n",
       "       [ 0.00029253,  0.0007161 ,  0.00090776],\n",
       "       [ 0.00050998,  0.00081438,  0.00085436],\n",
       "       [ 0.00024323,  0.00094986,  0.00072981],\n",
       "       [ 0.00023222,  0.00096255,  0.00086029],\n",
       "       [ 0.00019547,  0.00082607,  0.0008343 ],\n",
       "       [ 0.00025063,  0.00070937,  0.00068278],\n",
       "       [ 0.00018704,  0.00087594,  0.00069439],\n",
       "       [ 0.00029789,  0.0008277 ,  0.00071636],\n",
       "       [ 0.00022225,  0.00062549,  0.00071546],\n",
       "       [ 0.00025083,  0.00047705,  0.00064333],\n",
       "       [ 0.00018777,  0.00061522,  0.00059518],\n",
       "       [ 0.00017395,  0.00046138,  0.00059023],\n",
       "       [ 0.00016726,  0.00064527,  0.00059201],\n",
       "       [ 0.00018136,  0.00079129,  0.00055452],\n",
       "       [ 0.00021188,  0.0007503 ,  0.00076197],\n",
       "       [ 0.00020706,  0.00074951,  0.00067281],\n",
       "       [ 0.00025773,  0.00088672,  0.0005581 ],\n",
       "       [ 0.00022136,  0.00081292,  0.00053038],\n",
       "       [ 0.00044732,  0.00073461,  0.00064955],\n",
       "       [ 0.00024359,  0.0007975 ,  0.00067091],\n",
       "       [ 0.00016682,  0.00078504,  0.0005813 ],\n",
       "       [ 0.00016156,  0.00067682,  0.00065655],\n",
       "       [ 0.00019838,  0.00067042,  0.00053255],\n",
       "       [ 0.00022566,  0.00065789,  0.00047307],\n",
       "       [ 0.00019149,  0.00070921,  0.00053285],\n",
       "       [ 0.00024703,  0.00064921,  0.00049908],\n",
       "       [ 0.00028859,  0.00074709,  0.00059642],\n",
       "       [ 0.00020124,  0.00090301,  0.0006096 ],\n",
       "       [ 0.00030956,  0.00078015,  0.00075078],\n",
       "       [ 0.00032272,  0.00072555,  0.0009073 ],\n",
       "       [ 0.00031917,  0.0008083 ,  0.0007783 ],\n",
       "       [ 0.00029689,  0.00076785,  0.00084531],\n",
       "       [ 0.00033486,  0.00077598,  0.00085345]])"
      ]
     },
     "execution_count": 42,
     "metadata": {},
     "output_type": "execute_result"
    }
   ],
   "source": [
    "features[43900:43950,]"
   ]
  },
  {
   "cell_type": "code",
   "execution_count": 33,
   "metadata": {},
   "outputs": [
    {
     "data": {
      "text/plain": [
       "array([1, 1, 1, 1, 1, 1, 1, 1, 1, 1, 1, 1, 1, 1, 1, 1, 1, 1, 1, 1, 1, 1, 1,\n",
       "       1, 1, 1, 1, 1, 1, 1, 1, 1, 1, 1, 1, 1, 1, 1, 1, 1, 1, 1, 1, 1, 1, 1,\n",
       "       1, 1, 1, 1])"
      ]
     },
     "execution_count": 33,
     "metadata": {},
     "output_type": "execute_result"
    }
   ],
   "source": [
    "labels[2500:2550,]"
   ]
  },
  {
   "cell_type": "code",
   "execution_count": 34,
   "metadata": {
    "collapsed": true
   },
   "outputs": [],
   "source": [
    "from sklearn.model_selection import cross_val_score\n",
    "from sklearn.model_selection import train_test_split\n",
    "train, test, train_labels, test_labels = train_test_split(features,\n",
    "                                                          labels,\n",
    "                                                          test_size=0.15,\n",
    "                                                          random_state=42)"
   ]
  },
  {
   "cell_type": "markdown",
   "metadata": {},
   "source": [
    "Linear model ( Ordinary Least Squares) "
   ]
  },
  {
   "cell_type": "code",
   "execution_count": 23,
   "metadata": {},
   "outputs": [
    {
     "name": "stdout",
     "output_type": "stream",
     "text": [
      "Linear ( Ordinary Least Squares) Accuracy: 0.597202180536\n"
     ]
    }
   ],
   "source": [
    "from sklearn import linear_model\n",
    "import numpy as np\n",
    "reg = linear_model.LinearRegression()\n",
    "model = reg.fit(train, train_labels)\n",
    "preds = reg.predict(test)\n",
    "preds = np.where(preds>0.5,1,0)\n",
    "\n",
    "from sklearn.metrics import accuracy_score\n",
    "print(\"Linear ( Ordinary Least Squares) Accuracy:\",accuracy_score(test_labels, preds))"
   ]
  },
  {
   "cell_type": "markdown",
   "metadata": {},
   "source": [
    "Linear model (Ridge Regression)"
   ]
  },
  {
   "cell_type": "code",
   "execution_count": 24,
   "metadata": {},
   "outputs": [
    {
     "name": "stdout",
     "output_type": "stream",
     "text": [
      "Linear model (Ridge Regression) Accuracy: 0.546616963284\n"
     ]
    }
   ],
   "source": [
    "reg = linear_model.Ridge (alpha = .5)\n",
    "model = reg.fit(train, train_labels)\n",
    "preds = reg.predict(test)\n",
    "preds = np.where(preds>0.5,1,0)\n",
    "print(\"Linear model (Ridge Regression) Accuracy:\",accuracy_score(test_labels, preds))"
   ]
  },
  {
   "cell_type": "markdown",
   "metadata": {},
   "source": [
    "Linear model ( Lasso)"
   ]
  },
  {
   "cell_type": "code",
   "execution_count": 25,
   "metadata": {},
   "outputs": [
    {
     "name": "stdout",
     "output_type": "stream",
     "text": [
      "Linear model ( Lasso) Accuracy: 0.546616963284\n"
     ]
    }
   ],
   "source": [
    "reg = linear_model.Lasso(alpha = 0.1)\n",
    "model = reg.fit(train, train_labels)\n",
    "preds = reg.predict(test)\n",
    "preds = np.where(preds>0.5,1,0)\n",
    "print(\"Linear model ( Lasso) Accuracy:\",accuracy_score(test_labels, preds))"
   ]
  },
  {
   "cell_type": "markdown",
   "metadata": {},
   "source": [
    "Logistic "
   ]
  },
  {
   "cell_type": "code",
   "execution_count": 26,
   "metadata": {},
   "outputs": [
    {
     "name": "stdout",
     "output_type": "stream",
     "text": [
      "Logistic Accuracy: 0.596721180055\n"
     ]
    }
   ],
   "source": [
    "logistic = linear_model.LogisticRegression(C=1e5)\n",
    "model = logistic.fit(train, train_labels)\n",
    "preds = logistic.predict(test)\n",
    "print(\"Logistic Accuracy:\",accuracy_score(test_labels, preds))"
   ]
  },
  {
   "cell_type": "markdown",
   "metadata": {},
   "source": [
    "Gaussian NB "
   ]
  },
  {
   "cell_type": "code",
   "execution_count": 27,
   "metadata": {},
   "outputs": [
    {
     "name": "stdout",
     "output_type": "stream",
     "text": [
      "Gaussian NB Accuracy: 0.469296135963\n"
     ]
    }
   ],
   "source": [
    "from sklearn.naive_bayes import GaussianNB\n",
    "gnb = GaussianNB()\n",
    "model = gnb.fit(train, train_labels)\n",
    "preds = gnb.predict(test)\n",
    "print(\"Gaussian NB Accuracy:\",accuracy_score(test_labels, preds))"
   ]
  },
  {
   "cell_type": "markdown",
   "metadata": {},
   "source": [
    "KNN\n"
   ]
  },
  {
   "cell_type": "code",
   "execution_count": 28,
   "metadata": {},
   "outputs": [
    {
     "name": "stdout",
     "output_type": "stream",
     "text": [
      "KNN Accuracy: 0.565616482283\n"
     ]
    }
   ],
   "source": [
    "from sklearn.neighbors import KNeighborsClassifier\n",
    "knn = KNeighborsClassifier()\n",
    "knn.fit(train, train_labels) \n",
    "preds = knn.predict(test)\n",
    "print(\"KNN Accuracy:\",accuracy_score(test_labels, preds))"
   ]
  },
  {
   "cell_type": "markdown",
   "metadata": {},
   "source": [
    "Linear SVM"
   ]
  },
  {
   "cell_type": "code",
   "execution_count": 29,
   "metadata": {},
   "outputs": [
    {
     "name": "stdout",
     "output_type": "stream",
     "text": [
      "Linear SVM Accuracy: 0.546616963284\n"
     ]
    }
   ],
   "source": [
    "from sklearn import svm\n",
    "svc = svm.SVC(kernel='linear')\n",
    "model = svc.fit(train, train_labels)\n",
    "preds = svc.predict(test)\n",
    "print(\"Linear SVM Accuracy:\",accuracy_score(test_labels, preds))"
   ]
  },
  {
   "cell_type": "markdown",
   "metadata": {},
   "source": [
    "SVM Radial Basis Function"
   ]
  },
  {
   "cell_type": "code",
   "execution_count": 30,
   "metadata": {},
   "outputs": [
    {
     "name": "stdout",
     "output_type": "stream",
     "text": [
      "SVM Radial Basis Function Accuracy: 0.546616963284\n"
     ]
    }
   ],
   "source": [
    "from sklearn import svm\n",
    "svc = svm.SVC(kernel='rbf')\n",
    "model = svc.fit(train, train_labels)\n",
    "preds = svc.predict(test)\n",
    "print(\"SVM Radial Basis Function Accuracy:\",accuracy_score(test_labels, preds))"
   ]
  },
  {
   "cell_type": "markdown",
   "metadata": {
    "collapsed": true
   },
   "source": [
    "Random Forest"
   ]
  },
  {
   "cell_type": "code",
   "execution_count": 31,
   "metadata": {},
   "outputs": [
    {
     "name": "stdout",
     "output_type": "stream",
     "text": [
      "Random Forest Accuracy: 0.567540484207\n"
     ]
    }
   ],
   "source": [
    "from sklearn.ensemble import RandomForestClassifier\n",
    "clf = RandomForestClassifier()\n",
    "model = clf.fit(train, train_labels)\n",
    "preds = clf.predict(test)\n",
    "print(\"Random Forest Accuracy:\",accuracy_score(test_labels, preds))"
   ]
  },
  {
   "cell_type": "markdown",
   "metadata": {},
   "source": [
    "Nerual Network"
   ]
  },
  {
   "cell_type": "code",
   "execution_count": 32,
   "metadata": {},
   "outputs": [
    {
     "name": "stdout",
     "output_type": "stream",
     "text": [
      "Nerual Network: 0.546616963284\n"
     ]
    }
   ],
   "source": [
    "from sklearn.neural_network import MLPClassifier\n",
    "clf = MLPClassifier(solver='lbfgs', alpha=1e-5, hidden_layer_sizes=(5, 2), random_state=1)\n",
    "model = clf.fit(train, train_labels)\n",
    "preds = clf.predict(test)\n",
    "print(\"Nerual Network:\",accuracy_score(test_labels, preds))"
   ]
  },
  {
   "cell_type": "code",
   "execution_count": null,
   "metadata": {
    "collapsed": true
   },
   "outputs": [],
   "source": []
  }
 ],
 "metadata": {
  "kernelspec": {
   "display_name": "Python 3",
   "language": "python",
   "name": "python3"
  },
  "language_info": {
   "codemirror_mode": {
    "name": "ipython",
    "version": 3
   },
   "file_extension": ".py",
   "mimetype": "text/x-python",
   "name": "python",
   "nbconvert_exporter": "python",
   "pygments_lexer": "ipython3",
   "version": "3.6.2"
  }
 },
 "nbformat": 4,
 "nbformat_minor": 2
}
